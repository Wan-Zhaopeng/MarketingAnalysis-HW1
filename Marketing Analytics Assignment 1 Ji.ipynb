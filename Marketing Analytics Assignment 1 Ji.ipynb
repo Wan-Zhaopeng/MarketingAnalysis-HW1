{
 "cells": [
  {
   "cell_type": "code",
   "execution_count": 2,
   "id": "702c93e8",
   "metadata": {},
   "outputs": [],
   "source": [
    "import pandas as pd\n",
    "import numpy as np\n",
    "import pandas as pd\n",
    "import scipy.stats as stats\n",
    "import statsmodels.stats.api as sms\n",
    "import matplotlib as mpl\n",
    "import matplotlib.pyplot as plt\n",
    "import seaborn as sns\n",
    "from math import ceil\n",
    "from scipy.stats import norm\n",
    "import statistics\n",
    "import math"
   ]
  },
  {
   "cell_type": "code",
   "execution_count": 3,
   "id": "802809c1",
   "metadata": {},
   "outputs": [],
   "source": [
    "# dataset"
   ]
  },
  {
   "cell_type": "code",
   "execution_count": 4,
   "id": "14f8243e",
   "metadata": {},
   "outputs": [],
   "source": [
    "df = pd.read_csv('AB_test_data.csv')"
   ]
  },
  {
   "cell_type": "code",
   "execution_count": 5,
   "id": "15e5485b",
   "metadata": {},
   "outputs": [
    {
     "data": {
      "text/html": [
       "<div>\n",
       "<style scoped>\n",
       "    .dataframe tbody tr th:only-of-type {\n",
       "        vertical-align: middle;\n",
       "    }\n",
       "\n",
       "    .dataframe tbody tr th {\n",
       "        vertical-align: top;\n",
       "    }\n",
       "\n",
       "    .dataframe thead th {\n",
       "        text-align: right;\n",
       "    }\n",
       "</style>\n",
       "<table border=\"1\" class=\"dataframe\">\n",
       "  <thead>\n",
       "    <tr style=\"text-align: right;\">\n",
       "      <th></th>\n",
       "      <th>purchase_TF</th>\n",
       "      <th>Variant</th>\n",
       "      <th>date</th>\n",
       "      <th>id</th>\n",
       "    </tr>\n",
       "  </thead>\n",
       "  <tbody>\n",
       "    <tr>\n",
       "      <th>0</th>\n",
       "      <td>False</td>\n",
       "      <td>A</td>\n",
       "      <td>2019-11-08</td>\n",
       "      <td>0x25b44a</td>\n",
       "    </tr>\n",
       "    <tr>\n",
       "      <th>1</th>\n",
       "      <td>False</td>\n",
       "      <td>B</td>\n",
       "      <td>2020-08-27</td>\n",
       "      <td>0x46271e</td>\n",
       "    </tr>\n",
       "    <tr>\n",
       "      <th>2</th>\n",
       "      <td>False</td>\n",
       "      <td>A</td>\n",
       "      <td>2020-06-11</td>\n",
       "      <td>0x80b8f1</td>\n",
       "    </tr>\n",
       "    <tr>\n",
       "      <th>3</th>\n",
       "      <td>False</td>\n",
       "      <td>B</td>\n",
       "      <td>2020-08-22</td>\n",
       "      <td>0x8d736d</td>\n",
       "    </tr>\n",
       "    <tr>\n",
       "      <th>4</th>\n",
       "      <td>False</td>\n",
       "      <td>A</td>\n",
       "      <td>2020-08-05</td>\n",
       "      <td>0x96c9c8</td>\n",
       "    </tr>\n",
       "  </tbody>\n",
       "</table>\n",
       "</div>"
      ],
      "text/plain": [
       "   purchase_TF Variant        date        id\n",
       "0        False       A  2019-11-08  0x25b44a\n",
       "1        False       B  2020-08-27  0x46271e\n",
       "2        False       A  2020-06-11  0x80b8f1\n",
       "3        False       B  2020-08-22  0x8d736d\n",
       "4        False       A  2020-08-05  0x96c9c8"
      ]
     },
     "execution_count": 5,
     "metadata": {},
     "output_type": "execute_result"
    }
   ],
   "source": [
    "df.head()"
   ]
  },
  {
   "cell_type": "code",
   "execution_count": 6,
   "id": "e13ab854",
   "metadata": {},
   "outputs": [
    {
     "data": {
      "text/html": [
       "<div>\n",
       "<style scoped>\n",
       "    .dataframe tbody tr th:only-of-type {\n",
       "        vertical-align: middle;\n",
       "    }\n",
       "\n",
       "    .dataframe tbody tr th {\n",
       "        vertical-align: top;\n",
       "    }\n",
       "\n",
       "    .dataframe thead th {\n",
       "        text-align: right;\n",
       "    }\n",
       "</style>\n",
       "<table border=\"1\" class=\"dataframe\">\n",
       "  <thead>\n",
       "    <tr style=\"text-align: right;\">\n",
       "      <th>Variant</th>\n",
       "      <th>A</th>\n",
       "      <th>B</th>\n",
       "    </tr>\n",
       "    <tr>\n",
       "      <th>purchase_TF</th>\n",
       "      <th></th>\n",
       "      <th></th>\n",
       "    </tr>\n",
       "  </thead>\n",
       "  <tbody>\n",
       "    <tr>\n",
       "      <th>False</th>\n",
       "      <td>106298</td>\n",
       "      <td>4117</td>\n",
       "    </tr>\n",
       "    <tr>\n",
       "      <th>True</th>\n",
       "      <td>18702</td>\n",
       "      <td>883</td>\n",
       "    </tr>\n",
       "  </tbody>\n",
       "</table>\n",
       "</div>"
      ],
      "text/plain": [
       "Variant           A     B\n",
       "purchase_TF              \n",
       "False        106298  4117\n",
       "True          18702   883"
      ]
     },
     "execution_count": 6,
     "metadata": {},
     "output_type": "execute_result"
    }
   ],
   "source": [
    "pd.crosstab(df['purchase_TF'], df['Variant'])"
   ]
  },
  {
   "cell_type": "code",
   "execution_count": 7,
   "id": "c7096f57",
   "metadata": {},
   "outputs": [],
   "source": [
    "# Question 1"
   ]
  },
  {
   "cell_type": "code",
   "execution_count": 8,
   "id": "b394e1fd",
   "metadata": {},
   "outputs": [],
   "source": [
    "variant_A = df[df['Variant'] == 'A']\n",
    "variant_B = df[df['Variant'] == 'B']"
   ]
  },
  {
   "cell_type": "code",
   "execution_count": 9,
   "id": "b7b63ecf",
   "metadata": {},
   "outputs": [
    {
     "name": "stdout",
     "output_type": "stream",
     "text": [
      "0.149616 0.1766\n"
     ]
    }
   ],
   "source": [
    "mean_a = sum(variant_A['purchase_TF'])/len(variant_A['purchase_TF'])\n",
    "mean_b = sum(variant_B['purchase_TF'])/len(variant_B['purchase_TF'])\n",
    "print(mean_a,mean_b)"
   ]
  },
  {
   "cell_type": "code",
   "execution_count": 10,
   "id": "889cfbff",
   "metadata": {},
   "outputs": [
    {
     "name": "stdout",
     "output_type": "stream",
     "text": [
      "z score: 5.35\n",
      "Reject null hypothesis.\n"
     ]
    }
   ],
   "source": [
    "z_score = (mean_b - mean_a)/pow((mean_a*(1-mean_a))/len(variant_B),0.5) #one-sample z test\n",
    "print(f'z score: {z_score:.2f}')\n",
    "if z_score >= 1.64:\n",
    "    print('Reject null hypothesis.')\n",
    "else:\n",
    "    print('Fail to Reject null hypothesis.')"
   ]
  },
  {
   "cell_type": "code",
   "execution_count": 11,
   "id": "495913ab",
   "metadata": {},
   "outputs": [],
   "source": [
    "# Question 2"
   ]
  },
  {
   "cell_type": "code",
   "execution_count": 14,
   "id": "c32a1770",
   "metadata": {},
   "outputs": [
    {
     "data": {
      "text/plain": [
       "2936"
      ]
     },
     "execution_count": 14,
     "metadata": {},
     "output_type": "execute_result"
    }
   ],
   "source": [
    "# using a significance level of 0.05, and setting power to 0.80, we have tα/2 = 1.96 and tβ = 0.84 from standard normal tables.\n",
    "tα_2 = 1.96\n",
    "tβ = 0.84\n",
    "pool_variance = mean_a*(1-mean_a)+mean_b*(1-mean_b)\n",
    "n_1 = ceil((pool_variance/(mean_a-mean_b)**2)*((tβ+tα_2)**2))\n",
    "n_1"
   ]
  },
  {
   "cell_type": "code",
   "execution_count": 15,
   "id": "413baca8",
   "metadata": {},
   "outputs": [],
   "source": [
    "# sample and test"
   ]
  },
  {
   "cell_type": "code",
   "execution_count": 16,
   "id": "e513c5cb",
   "metadata": {},
   "outputs": [
    {
     "name": "stdout",
     "output_type": "stream",
     "text": [
      "z_score: 3.71 Reject null hypothesis.\n",
      "z_score: 5.94 Reject null hypothesis.\n",
      "z_score: 4.38 Reject null hypothesis.\n",
      "z_score: 4.23 Reject null hypothesis.\n",
      "z_score: 4.49 Reject null hypothesis.\n",
      "z_score: 3.76 Reject null hypothesis.\n",
      "z_score: 4.64 Reject null hypothesis.\n",
      "z_score: 3.66 Reject null hypothesis.\n",
      "z_score: 4.69 Reject null hypothesis.\n",
      "z_score: 4.13 Reject null hypothesis.\n"
     ]
    }
   ],
   "source": [
    "for i in range(10,20):\n",
    "    sample_B = variant_B.sample(n=n_1)\n",
    "    conversion_b = sum(sample_B['purchase_TF'])/len(sample_B['purchase_TF'])\n",
    "    z_score = (conversion_b - mean_a)/pow((mean_a*(1-mean_a))/len(sample_B),0.5)\n",
    "    if z_score >= 1.64:\n",
    "        print(f'z_score: {z_score:.2f}','Reject null hypothesis.')\n",
    "    else:\n",
    "        print(f'z_score: {z_score:.2f}','Fail to Reject null hypothesis.')"
   ]
  },
  {
   "cell_type": "code",
   "execution_count": 18,
   "id": "272d0f81",
   "metadata": {},
   "outputs": [],
   "source": [
    "# question 3"
   ]
  },
  {
   "cell_type": "code",
   "execution_count": 19,
   "id": "f541bcb6",
   "metadata": {},
   "outputs": [],
   "source": [
    "p_0 = mean_a\n",
    "p_1 = mean_b"
   ]
  },
  {
   "cell_type": "code",
   "execution_count": 20,
   "id": "ea9c7e32",
   "metadata": {},
   "outputs": [],
   "source": [
    "# set the boundaries: Set desired Type I error = 5% and Type II error = 20%"
   ]
  },
  {
   "cell_type": "code",
   "execution_count": 21,
   "id": "b9297dd5",
   "metadata": {},
   "outputs": [],
   "source": [
    "A = 2.99\n",
    "B = -1.6"
   ]
  },
  {
   "cell_type": "code",
   "execution_count": 22,
   "id": "35161468",
   "metadata": {},
   "outputs": [
    {
     "name": "stdout",
     "output_type": "stream",
     "text": [
      "0.16581527647676866 -0.032245902839488846\n"
     ]
    }
   ],
   "source": [
    "x_1 =math.log(mean_b/mean_a)\n",
    "x_0 = math.log((1-mean_b)/(1-mean_a))\n",
    "print(x_1,x_0)"
   ]
  },
  {
   "cell_type": "code",
   "execution_count": 23,
   "id": "84145281",
   "metadata": {},
   "outputs": [
    {
     "data": {
      "text/plain": [
       "989.6"
      ]
     },
     "execution_count": 23,
     "metadata": {},
     "output_type": "execute_result"
    }
   ],
   "source": [
    "stopping_times_list = []\n",
    "for i in range(10,20):\n",
    "    values = []\n",
    "    stopping_times = 1\n",
    "    x_cum = 0\n",
    "    treatment_sample = variant_B.sample(n=required_n)\n",
    "    for sample in treatment_sample['purchase_TF']:\n",
    "        values.append(sample)\n",
    "        if sample == 1:\n",
    "            x_cum = x_cum + x_1\n",
    "        else:\n",
    "            x_cum = x_cum + x_0\n",
    "        if x_cum>= A or x_cum <= B:\n",
    "            stopping_times_list.append(stopping_times)\n",
    "            break\n",
    "        stopping_times = stopping_times + 1\n",
    "\n",
    "def Get_Average(list):\n",
    "    sum = 0\n",
    "    for item in list:\n",
    "        sum += item\n",
    "    return sum/len(list)\n",
    "Get_Average(stopping_times_list)"
   ]
  },
  {
   "cell_type": "code",
   "execution_count": null,
   "id": "55268580",
   "metadata": {},
   "outputs": [],
   "source": []
  },
  {
   "cell_type": "code",
   "execution_count": null,
   "id": "5790f4d8",
   "metadata": {},
   "outputs": [],
   "source": []
  }
 ],
 "metadata": {
  "kernelspec": {
   "display_name": "Python 3",
   "language": "python",
   "name": "python3"
  },
  "language_info": {
   "codemirror_mode": {
    "name": "ipython",
    "version": 3
   },
   "file_extension": ".py",
   "mimetype": "text/x-python",
   "name": "python",
   "nbconvert_exporter": "python",
   "pygments_lexer": "ipython3",
   "version": "3.8.8"
  }
 },
 "nbformat": 4,
 "nbformat_minor": 5
}
